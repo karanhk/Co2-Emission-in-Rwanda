{
 "cells": [
  {
   "cell_type": "markdown",
   "id": "d75ef545",
   "metadata": {},
   "source": [
    "<font color='red'><h1> Workbook to train bagging and boosting ML models on BorutaPy ranked features. </h1></font>"
   ]
  },
  {
   "cell_type": "markdown",
   "id": "af994a9e",
   "metadata": {},
   "source": [
    "This workbook is to train bagging and boosting tree based ML models from different set of ranked features. The features are ranked by their importance by BorutaPy library where rank 1 means the best one."
   ]
  },
  {
   "cell_type": "markdown",
   "id": "15636ffc",
   "metadata": {},
   "source": [
    "## Import libraries"
   ]
  },
  {
   "cell_type": "code",
   "execution_count": 1,
   "id": "9b1f488c",
   "metadata": {},
   "outputs": [],
   "source": [
    "import os\n",
    "import pandas as pd\n",
    "import numpy as np\n",
    "import xgboost as xgb\n",
    "from sklearn.metrics import mean_absolute_error\n",
    "from sklearn.ensemble import RandomForestRegressor, AdaBoostRegressor, GradientBoostingRegressor"
   ]
  },
  {
   "cell_type": "markdown",
   "id": "a4f7888d",
   "metadata": {},
   "source": [
    "## Process data"
   ]
  },
  {
   "cell_type": "code",
   "execution_count": 2,
   "id": "a8c5f44a",
   "metadata": {},
   "outputs": [],
   "source": [
    "csv_path = os.getcwd() + '/data/'\n",
    "train_df = pd.read_csv(csv_path + 'train.csv')\n",
    "val_df = pd.read_csv(csv_path + 'val.csv')\n",
    "feature_df = pd.read_csv(csv_path + 'ranked_features.csv')"
   ]
  },
  {
   "cell_type": "code",
   "execution_count": 3,
   "id": "1084d011",
   "metadata": {},
   "outputs": [],
   "source": [
    "X_train = train_df.drop('emission',axis=1)\n",
    "X_val = val_df.drop('emission',axis=1)\n",
    "y_train = train_df['emission']\n",
    "y_val = val_df['emission']"
   ]
  },
  {
   "cell_type": "markdown",
   "id": "6113ec8e",
   "metadata": {},
   "source": [
    "## Train Model"
   ]
  },
  {
   "cell_type": "code",
   "execution_count": 41,
   "id": "a9721b79",
   "metadata": {},
   "outputs": [],
   "source": [
    "def train_model(X_train,y_train,X_val,y_val):\n",
    "    \n",
    "    xgb_model = xgb.XGBRegressor(objective='reg:squarederror',n_estimators=100,learning_rate=0.1,max_depth=13,random_state=42)\n",
    "    xgb_model.fit(X_train, y_train)\n",
    "    \n",
    "    y_pred = xgb_model.predict(X_val)\n",
    "    print(mean_absolute_error(y_val,y_pred))"
   ]
  },
  {
   "cell_type": "markdown",
   "id": "efea6c86",
   "metadata": {},
   "source": [
    "## Rank 1 only"
   ]
  },
  {
   "cell_type": "code",
   "execution_count": 8,
   "id": "65b08c44",
   "metadata": {},
   "outputs": [],
   "source": [
    "cols = feature_df[feature_df['Rank'] == 1]['Feature'].values"
   ]
  },
  {
   "cell_type": "code",
   "execution_count": 9,
   "id": "010b614e",
   "metadata": {},
   "outputs": [],
   "source": [
    "X_train_new = X_train[cols]\n",
    "X_val_new = X_val[cols]"
   ]
  },
  {
   "cell_type": "code",
   "execution_count": 28,
   "id": "bde3356e",
   "metadata": {},
   "outputs": [
    {
     "name": "stdout",
     "output_type": "stream",
     "text": [
      "13.588323989006614\n"
     ]
    }
   ],
   "source": [
    "train_model(X_train_new,y_train,X_val_new,y_val)"
   ]
  },
  {
   "cell_type": "markdown",
   "id": "926a9d3c",
   "metadata": {},
   "source": [
    "## Rank upto 10"
   ]
  },
  {
   "cell_type": "code",
   "execution_count": 34,
   "id": "c449be9e",
   "metadata": {},
   "outputs": [],
   "source": [
    "cols = feature_df[feature_df['Rank'] <= 10]['Feature'].values"
   ]
  },
  {
   "cell_type": "code",
   "execution_count": 35,
   "id": "df5901ce",
   "metadata": {},
   "outputs": [],
   "source": [
    "X_train_new = X_train[cols]\n",
    "X_val_new = X_val[cols]"
   ]
  },
  {
   "cell_type": "code",
   "execution_count": 36,
   "id": "ae8aef07",
   "metadata": {},
   "outputs": [
    {
     "name": "stdout",
     "output_type": "stream",
     "text": [
      "14.338259961942693\n"
     ]
    }
   ],
   "source": [
    "train_model(X_train_new,y_train,X_val_new,y_val)"
   ]
  },
  {
   "cell_type": "markdown",
   "id": "e8e611de",
   "metadata": {},
   "source": [
    "## Rank upto 20"
   ]
  },
  {
   "cell_type": "code",
   "execution_count": 37,
   "id": "9e241606",
   "metadata": {},
   "outputs": [],
   "source": [
    "cols = feature_df[feature_df['Rank'] <= 20]['Feature'].values"
   ]
  },
  {
   "cell_type": "code",
   "execution_count": 39,
   "id": "a9b6800b",
   "metadata": {},
   "outputs": [],
   "source": [
    "X_train_new = X_train[cols]\n",
    "X_val_new = X_val[cols]"
   ]
  },
  {
   "cell_type": "code",
   "execution_count": 42,
   "id": "552d6e57",
   "metadata": {},
   "outputs": [
    {
     "name": "stdout",
     "output_type": "stream",
     "text": [
      "14.345968725989101\n"
     ]
    }
   ],
   "source": [
    "train_model(X_train_new,y_train,X_val_new,y_val)"
   ]
  }
 ],
 "metadata": {
  "kernelspec": {
   "display_name": "Python 3 (ipykernel)",
   "language": "python",
   "name": "python3"
  },
  "language_info": {
   "codemirror_mode": {
    "name": "ipython",
    "version": 3
   },
   "file_extension": ".py",
   "mimetype": "text/x-python",
   "name": "python",
   "nbconvert_exporter": "python",
   "pygments_lexer": "ipython3",
   "version": "3.10.9"
  }
 },
 "nbformat": 4,
 "nbformat_minor": 5
}
