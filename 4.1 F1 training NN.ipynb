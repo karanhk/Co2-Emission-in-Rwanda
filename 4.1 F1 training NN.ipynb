{
 "cells": [
  {
   "cell_type": "markdown",
   "id": "8cddb13a",
   "metadata": {},
   "source": [
    "<font color='red'><h1> Training NN on wrapper based selected features </h1></font>"
   ]
  },
  {
   "cell_type": "markdown",
   "id": "e38a4b50",
   "metadata": {},
   "source": [
    "This workbook is to train neural network on wrapper based selected features. All features having correlation higher than 0.9 with some feature let's say x are dropped except feature x. Ultimetly there are 52 features."
   ]
  },
  {
   "cell_type": "markdown",
   "id": "c4fd9140",
   "metadata": {},
   "source": [
    "## Import libraries"
   ]
  },
  {
   "cell_type": "code",
   "execution_count": 1,
   "id": "1e410291",
   "metadata": {},
   "outputs": [
    {
     "name": "stdout",
     "output_type": "stream",
     "text": [
      "Using TensorFlow backend\n"
     ]
    }
   ],
   "source": [
    "import os,shutil\n",
    "import numpy as np\n",
    "import pandas as pd\n",
    "import tensorflow as tf\n",
    "import keras_tuner\n",
    "from tensorflow import keras\n",
    "from keras import Sequential\n",
    "from keras.callbacks import EarlyStopping\n",
    "from keras.layers import Dense, Dropout, BatchNormalization\n",
    "from sklearn.ensemble import RandomForestClassifier, AdaBoostClassifier, GradientBoostingClassifier"
   ]
  },
  {
   "cell_type": "code",
   "execution_count": 2,
   "id": "e887dab3",
   "metadata": {},
   "outputs": [],
   "source": [
    "csv_path = os.getcwd() + '/data/'\n",
    "train_df = pd.read_csv(csv_path + 'train_f1.csv')\n",
    "val_df = pd.read_csv(csv_path + 'val_f1.csv')"
   ]
  },
  {
   "cell_type": "code",
   "execution_count": 3,
   "id": "89875401",
   "metadata": {},
   "outputs": [],
   "source": [
    "X_train = train_df.drop('emission',axis=1)\n",
    "X_val = val_df.drop('emission',axis=1)\n",
    "y_train = train_df['emission']\n",
    "y_val = val_df['emission']"
   ]
  },
  {
   "cell_type": "markdown",
   "id": "4873cc6b",
   "metadata": {},
   "source": [
    "## Train NN"
   ]
  },
  {
   "cell_type": "code",
   "execution_count": 22,
   "id": "32ec41c9",
   "metadata": {},
   "outputs": [],
   "source": [
    "callback = EarlyStopping(monitor='val_loss',min_delta=0,patience=10,mode='auto')"
   ]
  },
  {
   "cell_type": "code",
   "execution_count": 26,
   "id": "ff35a526",
   "metadata": {},
   "outputs": [],
   "source": [
    "model = keras.Sequential()\n",
    "\n",
    "model.add(Dense(50,activation='relu'))\n",
    "\n",
    "model.add(Dense(32,activation='relu'))\n",
    "model.add(Dense(32,activation='relu'))\n",
    "model.add(Dropout(0.2))\n",
    "model.add(Dense(16,activation='relu'))\n",
    "model.add(Dropout(0.2))\n",
    "\n",
    "model.add(Dense(1,activation='linear'))"
   ]
  },
  {
   "cell_type": "code",
   "execution_count": 27,
   "id": "af434494",
   "metadata": {},
   "outputs": [],
   "source": [
    "model.compile(loss='mse',optimizer='rmsprop',metrics=['mae'])"
   ]
  },
  {
   "cell_type": "code",
   "execution_count": 28,
   "id": "298fdfce",
   "metadata": {
    "scrolled": true
   },
   "outputs": [
    {
     "name": "stdout",
     "output_type": "stream",
     "text": [
      "Epoch 1/100\n",
      "938/938 [==============================] - 9s 9ms/step - loss: 20600.7148 - mae: 70.5326 - val_loss: 17563.8652 - val_mae: 66.0011\n",
      "Epoch 2/100\n",
      "938/938 [==============================] - 8s 8ms/step - loss: 19562.9766 - mae: 67.2267 - val_loss: 17256.2246 - val_mae: 62.7551\n",
      "Epoch 3/100\n",
      "938/938 [==============================] - 8s 8ms/step - loss: 19108.1387 - mae: 65.0123 - val_loss: 16906.3887 - val_mae: 61.1461\n",
      "Epoch 4/100\n",
      "938/938 [==============================] - 8s 8ms/step - loss: 18544.9043 - mae: 62.7395 - val_loss: 16440.2070 - val_mae: 60.1507\n",
      "Epoch 5/100\n",
      "938/938 [==============================] - 8s 8ms/step - loss: 17985.8770 - mae: 60.6716 - val_loss: 16018.6436 - val_mae: 58.0960\n",
      "Epoch 6/100\n",
      "938/938 [==============================] - 8s 8ms/step - loss: 17555.8340 - mae: 59.5186 - val_loss: 15710.3428 - val_mae: 55.9773\n",
      "Epoch 7/100\n",
      "938/938 [==============================] - 8s 8ms/step - loss: 17132.9160 - mae: 58.7445 - val_loss: 15616.2031 - val_mae: 55.3798\n",
      "Epoch 8/100\n",
      "938/938 [==============================] - 8s 8ms/step - loss: 16952.3535 - mae: 57.8946 - val_loss: 15541.6143 - val_mae: 53.7497\n",
      "Epoch 9/100\n",
      "938/938 [==============================] - 8s 8ms/step - loss: 16678.0625 - mae: 57.3835 - val_loss: 15598.6035 - val_mae: 53.2440\n",
      "Epoch 10/100\n",
      "938/938 [==============================] - 8s 8ms/step - loss: 16351.1562 - mae: 56.9220 - val_loss: 15314.3867 - val_mae: 56.6829\n",
      "Epoch 11/100\n",
      "938/938 [==============================] - 8s 8ms/step - loss: 16177.7578 - mae: 56.7044 - val_loss: 15364.7012 - val_mae: 52.7156\n",
      "Epoch 12/100\n",
      "938/938 [==============================] - 8s 8ms/step - loss: 15924.1172 - mae: 56.2151 - val_loss: 15403.7061 - val_mae: 52.5619\n",
      "Epoch 13/100\n",
      "938/938 [==============================] - 8s 8ms/step - loss: 15743.6250 - mae: 56.1066 - val_loss: 15120.0332 - val_mae: 53.2907\n",
      "Epoch 14/100\n",
      "938/938 [==============================] - 8s 8ms/step - loss: 15569.6074 - mae: 55.7773 - val_loss: 15043.8848 - val_mae: 54.0962\n",
      "Epoch 15/100\n",
      "938/938 [==============================] - 8s 8ms/step - loss: 15230.7285 - mae: 55.7443 - val_loss: 15094.6445 - val_mae: 53.9105\n",
      "Epoch 16/100\n",
      "938/938 [==============================] - 8s 8ms/step - loss: 15185.7734 - mae: 55.4118 - val_loss: 15294.5811 - val_mae: 52.8018\n",
      "Epoch 17/100\n",
      "938/938 [==============================] - 8s 8ms/step - loss: 14828.9951 - mae: 55.2869 - val_loss: 15254.3584 - val_mae: 53.8743\n",
      "Epoch 18/100\n",
      "938/938 [==============================] - 8s 8ms/step - loss: 14800.8291 - mae: 55.1763 - val_loss: 15059.8516 - val_mae: 53.9710\n",
      "Epoch 19/100\n",
      "938/938 [==============================] - 8s 8ms/step - loss: 14445.4902 - mae: 55.1319 - val_loss: 15477.7168 - val_mae: 52.0392\n",
      "Epoch 20/100\n",
      "938/938 [==============================] - 8s 8ms/step - loss: 14305.9951 - mae: 55.1539 - val_loss: 15219.2676 - val_mae: 54.6934\n",
      "Epoch 21/100\n",
      "938/938 [==============================] - 8s 8ms/step - loss: 13864.6035 - mae: 54.8501 - val_loss: 15148.1934 - val_mae: 55.8855\n",
      "Epoch 22/100\n",
      "938/938 [==============================] - 8s 8ms/step - loss: 13781.6572 - mae: 55.0518 - val_loss: 15286.0078 - val_mae: 52.4906\n",
      "Epoch 23/100\n",
      "938/938 [==============================] - 8s 8ms/step - loss: 13580.5986 - mae: 54.8195 - val_loss: 15155.4863 - val_mae: 53.2839\n",
      "Epoch 24/100\n",
      "938/938 [==============================] - 8s 8ms/step - loss: 12749.2793 - mae: 54.5597 - val_loss: 15626.9004 - val_mae: 53.6889\n"
     ]
    },
    {
     "data": {
      "text/plain": [
       "<keras.callbacks.History at 0x329ef31f0>"
      ]
     },
     "execution_count": 28,
     "metadata": {},
     "output_type": "execute_result"
    }
   ],
   "source": [
    "model.fit(X_train,y_train,epochs=100,batch_size=32,validation_data=(X_val,y_val),callbacks=callback)"
   ]
  }
 ],
 "metadata": {
  "kernelspec": {
   "display_name": "Python 3 (ipykernel)",
   "language": "python",
   "name": "python3"
  },
  "language_info": {
   "codemirror_mode": {
    "name": "ipython",
    "version": 3
   },
   "file_extension": ".py",
   "mimetype": "text/x-python",
   "name": "python",
   "nbconvert_exporter": "python",
   "pygments_lexer": "ipython3",
   "version": "3.10.9"
  }
 },
 "nbformat": 4,
 "nbformat_minor": 5
}
