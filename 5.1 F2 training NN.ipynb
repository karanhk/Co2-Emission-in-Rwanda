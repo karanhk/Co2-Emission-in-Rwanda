{
 "cells": [
  {
   "cell_type": "markdown",
   "id": "8cddb13a",
   "metadata": {},
   "source": [
    "<font color='red'><h1> Workbook to train neural network on PCA based selected features.  </h1></font>"
   ]
  },
  {
   "cell_type": "markdown",
   "id": "71ac39ef",
   "metadata": {},
   "source": [
    "This workbook is to train neural network on PCA based selected features. All the features are extracted based on PCA, the features having correlation higher than 0.8 are correlated and total features are reduced to 52."
   ]
  },
  {
   "cell_type": "markdown",
   "id": "c4fd9140",
   "metadata": {},
   "source": [
    "## Import libraries"
   ]
  },
  {
   "cell_type": "code",
   "execution_count": 1,
   "id": "1e410291",
   "metadata": {},
   "outputs": [
    {
     "name": "stdout",
     "output_type": "stream",
     "text": [
      "Using TensorFlow backend\n"
     ]
    }
   ],
   "source": [
    "import os,shutil\n",
    "import numpy as np\n",
    "import pandas as pd\n",
    "import tensorflow as tf\n",
    "import keras_tuner\n",
    "from tensorflow import keras\n",
    "from keras import Sequential\n",
    "from keras.callbacks import EarlyStopping\n",
    "from keras.layers import Dense, Dropout, BatchNormalization\n",
    "from sklearn.ensemble import RandomForestClassifier, AdaBoostClassifier, GradientBoostingClassifier"
   ]
  },
  {
   "cell_type": "code",
   "execution_count": 2,
   "id": "e887dab3",
   "metadata": {},
   "outputs": [],
   "source": [
    "csv_path = os.getcwd() + '/data/'\n",
    "train_df = pd.read_csv(csv_path + 'train_f2.csv')\n",
    "val_df = pd.read_csv(csv_path + 'val_f2.csv')"
   ]
  },
  {
   "cell_type": "code",
   "execution_count": 3,
   "id": "89875401",
   "metadata": {},
   "outputs": [],
   "source": [
    "X_train = train_df.drop('emission',axis=1)\n",
    "X_val = val_df.drop('emission',axis=1)\n",
    "y_train = train_df['emission']\n",
    "y_val = val_df['emission']"
   ]
  },
  {
   "cell_type": "markdown",
   "id": "4873cc6b",
   "metadata": {},
   "source": [
    "## Train NN"
   ]
  },
  {
   "cell_type": "code",
   "execution_count": 4,
   "id": "32ec41c9",
   "metadata": {},
   "outputs": [],
   "source": [
    "callback = EarlyStopping(monitor='val_loss',min_delta=0,patience=10,mode='auto')"
   ]
  },
  {
   "cell_type": "code",
   "execution_count": 5,
   "id": "ff35a526",
   "metadata": {},
   "outputs": [
    {
     "name": "stdout",
     "output_type": "stream",
     "text": [
      "Metal device set to: Apple M1\n"
     ]
    }
   ],
   "source": [
    "model = keras.Sequential()\n",
    "\n",
    "model.add(Dense(50,activation='relu'))\n",
    "\n",
    "model.add(Dense(32,activation='relu'))\n",
    "model.add(Dense(32,activation='relu'))\n",
    "model.add(Dropout(0.2))\n",
    "model.add(Dense(16,activation='relu'))\n",
    "model.add(Dropout(0.2))\n",
    "\n",
    "model.add(Dense(1,activation='linear'))"
   ]
  },
  {
   "cell_type": "code",
   "execution_count": 6,
   "id": "af434494",
   "metadata": {},
   "outputs": [],
   "source": [
    "model.compile(loss='mse',optimizer='rmsprop',metrics=['mae'])"
   ]
  },
  {
   "cell_type": "code",
   "execution_count": 7,
   "id": "298fdfce",
   "metadata": {
    "scrolled": true
   },
   "outputs": [
    {
     "name": "stdout",
     "output_type": "stream",
     "text": [
      "Epoch 1/100\n"
     ]
    },
    {
     "name": "stderr",
     "output_type": "stream",
     "text": [
      "2023-09-29 10:30:50.250975: W tensorflow/tsl/platform/profile_utils/cpu_utils.cc:128] Failed to get CPU frequency: 0 Hz\n"
     ]
    },
    {
     "name": "stdout",
     "output_type": "stream",
     "text": [
      "938/938 [==============================] - 8s 8ms/step - loss: 20565.8770 - mae: 70.2007 - val_loss: 17625.0410 - val_mae: 68.1251\n",
      "Epoch 2/100\n",
      "938/938 [==============================] - 8s 8ms/step - loss: 19579.4707 - mae: 67.2474 - val_loss: 17324.2754 - val_mae: 63.5990\n",
      "Epoch 3/100\n",
      "938/938 [==============================] - 7s 8ms/step - loss: 19166.8203 - mae: 65.1335 - val_loss: 17142.4648 - val_mae: 60.6098\n",
      "Epoch 4/100\n",
      "938/938 [==============================] - 8s 8ms/step - loss: 18837.1953 - mae: 63.6562 - val_loss: 17111.9492 - val_mae: 64.7516\n",
      "Epoch 5/100\n",
      "938/938 [==============================] - 7s 8ms/step - loss: 18533.6367 - mae: 62.6296 - val_loss: 16992.3340 - val_mae: 63.1806\n",
      "Epoch 6/100\n",
      "938/938 [==============================] - 7s 8ms/step - loss: 18259.4512 - mae: 61.3766 - val_loss: 16842.0273 - val_mae: 61.3340\n",
      "Epoch 7/100\n",
      "938/938 [==============================] - 7s 8ms/step - loss: 17923.2363 - mae: 59.9368 - val_loss: 16724.1816 - val_mae: 62.9945\n",
      "Epoch 8/100\n",
      "938/938 [==============================] - 7s 8ms/step - loss: 17573.1973 - mae: 59.0007 - val_loss: 16300.1299 - val_mae: 57.8686\n",
      "Epoch 9/100\n",
      "938/938 [==============================] - 7s 8ms/step - loss: 17252.3516 - mae: 58.3910 - val_loss: 16248.7998 - val_mae: 58.2778\n",
      "Epoch 10/100\n",
      "938/938 [==============================] - 7s 8ms/step - loss: 16984.1309 - mae: 57.8074 - val_loss: 15928.0156 - val_mae: 56.8691\n",
      "Epoch 11/100\n",
      "938/938 [==============================] - 7s 8ms/step - loss: 16746.5742 - mae: 57.1431 - val_loss: 16023.4092 - val_mae: 55.8050\n",
      "Epoch 12/100\n",
      "938/938 [==============================] - 7s 8ms/step - loss: 16403.7930 - mae: 56.9277 - val_loss: 15970.8818 - val_mae: 58.4954\n",
      "Epoch 13/100\n",
      "938/938 [==============================] - 7s 8ms/step - loss: 16326.8770 - mae: 56.6903 - val_loss: 16002.2676 - val_mae: 58.8335\n",
      "Epoch 14/100\n",
      "938/938 [==============================] - 7s 8ms/step - loss: 16223.5342 - mae: 56.5762 - val_loss: 16058.3379 - val_mae: 59.1559\n",
      "Epoch 15/100\n",
      "938/938 [==============================] - 7s 8ms/step - loss: 16073.7676 - mae: 56.6160 - val_loss: 16226.7842 - val_mae: 53.7734\n",
      "Epoch 16/100\n",
      "938/938 [==============================] - 7s 8ms/step - loss: 15770.5195 - mae: 56.6512 - val_loss: 15912.5010 - val_mae: 56.2063\n",
      "Epoch 17/100\n",
      "938/938 [==============================] - 7s 8ms/step - loss: 15593.2568 - mae: 56.4788 - val_loss: 16196.4229 - val_mae: 54.7768\n",
      "Epoch 18/100\n",
      "938/938 [==============================] - 7s 8ms/step - loss: 15512.7070 - mae: 56.6002 - val_loss: 15975.7490 - val_mae: 54.6011\n",
      "Epoch 19/100\n",
      "938/938 [==============================] - 7s 8ms/step - loss: 15231.7461 - mae: 56.5708 - val_loss: 15768.2900 - val_mae: 55.3819\n",
      "Epoch 20/100\n",
      "938/938 [==============================] - 7s 8ms/step - loss: 15053.9463 - mae: 56.4446 - val_loss: 15835.7441 - val_mae: 54.1538\n",
      "Epoch 21/100\n",
      "938/938 [==============================] - 7s 8ms/step - loss: 14946.7080 - mae: 56.0939 - val_loss: 16118.1855 - val_mae: 55.0430\n",
      "Epoch 22/100\n",
      "938/938 [==============================] - 7s 8ms/step - loss: 14579.4932 - mae: 56.1864 - val_loss: 16441.5215 - val_mae: 54.0917\n",
      "Epoch 23/100\n",
      "938/938 [==============================] - 7s 8ms/step - loss: 14466.5576 - mae: 55.9135 - val_loss: 15825.9678 - val_mae: 54.1463\n",
      "Epoch 24/100\n",
      "938/938 [==============================] - 7s 8ms/step - loss: 14308.6016 - mae: 55.8638 - val_loss: 16291.7939 - val_mae: 55.5806\n",
      "Epoch 25/100\n",
      "938/938 [==============================] - 7s 8ms/step - loss: 14165.7832 - mae: 55.8861 - val_loss: 16292.5791 - val_mae: 53.6020\n",
      "Epoch 26/100\n",
      "938/938 [==============================] - 7s 8ms/step - loss: 13789.9551 - mae: 55.6671 - val_loss: 15493.6865 - val_mae: 54.8894\n",
      "Epoch 27/100\n",
      "938/938 [==============================] - 7s 8ms/step - loss: 13367.4443 - mae: 55.5899 - val_loss: 15833.6865 - val_mae: 53.6595\n",
      "Epoch 28/100\n",
      "938/938 [==============================] - 7s 8ms/step - loss: 13211.0889 - mae: 55.1253 - val_loss: 16450.0898 - val_mae: 55.2080\n",
      "Epoch 29/100\n",
      "938/938 [==============================] - 7s 8ms/step - loss: 13023.2188 - mae: 55.3246 - val_loss: 15811.7549 - val_mae: 54.4908\n",
      "Epoch 30/100\n",
      "938/938 [==============================] - 7s 8ms/step - loss: 12061.2861 - mae: 54.6523 - val_loss: 16267.5342 - val_mae: 55.1989\n",
      "Epoch 31/100\n",
      "938/938 [==============================] - 7s 8ms/step - loss: 12226.7900 - mae: 54.6456 - val_loss: 16629.9414 - val_mae: 55.2680\n",
      "Epoch 32/100\n",
      "938/938 [==============================] - 7s 8ms/step - loss: 11838.3584 - mae: 54.2497 - val_loss: 16048.7793 - val_mae: 54.8458\n",
      "Epoch 33/100\n",
      "938/938 [==============================] - 7s 8ms/step - loss: 11637.6719 - mae: 54.0595 - val_loss: 15561.2725 - val_mae: 55.0544\n",
      "Epoch 34/100\n",
      "938/938 [==============================] - 7s 8ms/step - loss: 11672.4258 - mae: 54.0025 - val_loss: 16385.2539 - val_mae: 55.8727\n",
      "Epoch 35/100\n",
      "938/938 [==============================] - 7s 8ms/step - loss: 10846.7217 - mae: 53.8593 - val_loss: 16025.1309 - val_mae: 54.9794\n",
      "Epoch 36/100\n",
      "938/938 [==============================] - 7s 8ms/step - loss: 10741.7178 - mae: 53.3185 - val_loss: 15524.5469 - val_mae: 53.6211\n"
     ]
    },
    {
     "data": {
      "text/plain": [
       "<keras.callbacks.History at 0x177f794e0>"
      ]
     },
     "execution_count": 7,
     "metadata": {},
     "output_type": "execute_result"
    }
   ],
   "source": [
    "model.fit(X_train,y_train,epochs=100,batch_size=32,validation_data=(X_val,y_val),callbacks=callback)"
   ]
  }
 ],
 "metadata": {
  "kernelspec": {
   "display_name": "Python 3 (ipykernel)",
   "language": "python",
   "name": "python3"
  },
  "language_info": {
   "codemirror_mode": {
    "name": "ipython",
    "version": 3
   },
   "file_extension": ".py",
   "mimetype": "text/x-python",
   "name": "python",
   "nbconvert_exporter": "python",
   "pygments_lexer": "ipython3",
   "version": "3.10.9"
  }
 },
 "nbformat": 4,
 "nbformat_minor": 5
}
