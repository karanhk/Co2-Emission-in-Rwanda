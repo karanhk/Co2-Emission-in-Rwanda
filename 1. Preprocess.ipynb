{
 "cells": [
  {
   "cell_type": "markdown",
   "id": "5ac9ffa0",
   "metadata": {},
   "source": [
    "<font color='red'><h1> Workbook for creating validation set and data preprocessing </h1></font>"
   ]
  },
  {
   "cell_type": "markdown",
   "id": "94f63744",
   "metadata": {},
   "source": [
    "This workbook is to\n",
    "1. Creating validation set\n",
    "2. Drop unnecessary columns\n",
    "3. Fill missing values\n",
    "4. Standard scaling"
   ]
  },
  {
   "cell_type": "markdown",
   "id": "ca26eef8",
   "metadata": {},
   "source": [
    "## Import libraries"
   ]
  },
  {
   "cell_type": "code",
   "execution_count": 1,
   "id": "13859003",
   "metadata": {},
   "outputs": [],
   "source": [
    "import os\n",
    "import numpy as np\n",
    "import pandas as pd\n",
    "from sklearn.model_selection import train_test_split\n",
    "from sklearn.preprocessing import StandardScaler"
   ]
  },
  {
   "cell_type": "code",
   "execution_count": 2,
   "id": "3acf4522",
   "metadata": {},
   "outputs": [],
   "source": [
    "csv_path = os.getcwd() + '/data/reserved/train.csv'\n",
    "df = pd.read_csv(csv_path)"
   ]
  },
  {
   "cell_type": "markdown",
   "id": "64d8bbd1",
   "metadata": {},
   "source": [
    "## Drop columns"
   ]
  },
  {
   "cell_type": "code",
   "execution_count": 3,
   "id": "e0627a2a",
   "metadata": {},
   "outputs": [],
   "source": [
    "df.drop(df.columns[0],axis=1,inplace=True)"
   ]
  },
  {
   "cell_type": "code",
   "execution_count": 4,
   "id": "89cb973d",
   "metadata": {},
   "outputs": [],
   "source": [
    "cols = df.columns[56:63]\n",
    "df.drop(columns=cols,inplace=True)"
   ]
  },
  {
   "cell_type": "markdown",
   "id": "90ebbbe2",
   "metadata": {},
   "source": [
    "## Fill missing values"
   ]
  },
  {
   "cell_type": "code",
   "execution_count": 5,
   "id": "ddcbdd04",
   "metadata": {},
   "outputs": [],
   "source": [
    "for col in df.columns:\n",
    "    df[col] = df[col].fillna(df[col].median())"
   ]
  },
  {
   "cell_type": "markdown",
   "id": "0f89d4a5",
   "metadata": {},
   "source": [
    "## Split dataset"
   ]
  },
  {
   "cell_type": "code",
   "execution_count": 6,
   "id": "d660aa8d",
   "metadata": {},
   "outputs": [],
   "source": [
    "X = df.drop('emission',axis=1)\n",
    "y = df['emission']"
   ]
  },
  {
   "cell_type": "code",
   "execution_count": 7,
   "id": "8b4ef38d",
   "metadata": {},
   "outputs": [],
   "source": [
    "X_train, X_test, y_train, y_test = train_test_split(X,y,test_size=0.2)"
   ]
  },
  {
   "cell_type": "markdown",
   "id": "29aa1e0a",
   "metadata": {},
   "source": [
    "## Standardisation"
   ]
  },
  {
   "cell_type": "code",
   "execution_count": 8,
   "id": "753981cd",
   "metadata": {},
   "outputs": [],
   "source": [
    "scaler = StandardScaler()"
   ]
  },
  {
   "cell_type": "code",
   "execution_count": 9,
   "id": "2b0d8661",
   "metadata": {},
   "outputs": [],
   "source": [
    "X_train = scaler.fit_transform(X_train)\n",
    "X_test = scaler.fit_transform(X_test)"
   ]
  },
  {
   "cell_type": "code",
   "execution_count": 10,
   "id": "91c1eccb",
   "metadata": {},
   "outputs": [],
   "source": [
    "X_train = pd.DataFrame(X_train, columns=df.drop('emission',axis=1).columns)\n",
    "X_test = pd.DataFrame(X_test, columns=df.drop('emission',axis=1).columns)"
   ]
  },
  {
   "cell_type": "code",
   "execution_count": 11,
   "id": "bc879a71",
   "metadata": {},
   "outputs": [],
   "source": [
    "X_train['emission'] = y_train.values\n",
    "X_test['emission'] = y_test.values"
   ]
  },
  {
   "cell_type": "code",
   "execution_count": 13,
   "id": "d42235c3",
   "metadata": {},
   "outputs": [],
   "source": [
    "X_train.to_csv(\"data/train.csv\",index=False)"
   ]
  },
  {
   "cell_type": "code",
   "execution_count": 14,
   "id": "d97139e9",
   "metadata": {},
   "outputs": [],
   "source": [
    "X_test.to_csv(\"data/val.csv\",index=False)"
   ]
  }
 ],
 "metadata": {
  "kernelspec": {
   "display_name": "Python 3 (ipykernel)",
   "language": "python",
   "name": "python3"
  },
  "language_info": {
   "codemirror_mode": {
    "name": "ipython",
    "version": 3
   },
   "file_extension": ".py",
   "mimetype": "text/x-python",
   "name": "python",
   "nbconvert_exporter": "python",
   "pygments_lexer": "ipython3",
   "version": "3.10.9"
  }
 },
 "nbformat": 4,
 "nbformat_minor": 5
}
