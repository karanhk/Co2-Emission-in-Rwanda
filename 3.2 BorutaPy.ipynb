{
 "cells": [
  {
   "cell_type": "markdown",
   "id": "91131833",
   "metadata": {},
   "source": [
    "<font color='red'><h1> Workbook for feature ranking based on BorutaPy library </h1></font>"
   ]
  },
  {
   "cell_type": "markdown",
   "id": "439286f9",
   "metadata": {},
   "source": [
    "## Import libraries"
   ]
  },
  {
   "cell_type": "code",
   "execution_count": 1,
   "id": "9e6eef06",
   "metadata": {},
   "outputs": [],
   "source": [
    "import numpy as np\n",
    "import pandas as pd\n",
    "import os\n",
    "from sklearn.ensemble import RandomForestRegressor\n",
    "from boruta import BorutaPy"
   ]
  },
  {
   "cell_type": "code",
   "execution_count": 2,
   "id": "caf830b1",
   "metadata": {},
   "outputs": [],
   "source": [
    "csv_path = os.getcwd() + \"/data/\""
   ]
  },
  {
   "cell_type": "code",
   "execution_count": 3,
   "id": "46af9bc4",
   "metadata": {},
   "outputs": [],
   "source": [
    "train_df = pd.read_csv(csv_path + \"train.csv\")\n",
    "val_df = pd.read_csv(csv_path + \"val.csv\")"
   ]
  },
  {
   "cell_type": "code",
   "execution_count": 4,
   "id": "72b17ff3",
   "metadata": {},
   "outputs": [],
   "source": [
    "X_train = train_df.drop('emission',axis=1)\n",
    "y_train = train_df['emission']\n",
    "X_val = val_df.drop('emission',axis=1)\n",
    "y_val = val_df['emission']"
   ]
  },
  {
   "cell_type": "markdown",
   "id": "7120cf36",
   "metadata": {},
   "source": [
    "## BorutaPy"
   ]
  },
  {
   "cell_type": "code",
   "execution_count": 18,
   "id": "a4bdcd67",
   "metadata": {},
   "outputs": [
    {
     "name": "stdout",
     "output_type": "stream",
     "text": [
      "Iteration: \t1 / 50\n",
      "Confirmed: \t0\n",
      "Tentative: \t67\n",
      "Rejected: \t0\n",
      "Iteration: \t2 / 50\n",
      "Confirmed: \t0\n",
      "Tentative: \t67\n",
      "Rejected: \t0\n",
      "Iteration: \t3 / 50\n",
      "Confirmed: \t0\n",
      "Tentative: \t67\n",
      "Rejected: \t0\n",
      "Iteration: \t4 / 50\n",
      "Confirmed: \t0\n",
      "Tentative: \t67\n",
      "Rejected: \t0\n",
      "Iteration: \t5 / 50\n",
      "Confirmed: \t0\n",
      "Tentative: \t67\n",
      "Rejected: \t0\n",
      "Iteration: \t6 / 50\n",
      "Confirmed: \t0\n",
      "Tentative: \t67\n",
      "Rejected: \t0\n",
      "Iteration: \t7 / 50\n",
      "Confirmed: \t0\n",
      "Tentative: \t67\n",
      "Rejected: \t0\n",
      "Iteration: \t8 / 50\n",
      "Confirmed: \t0\n",
      "Tentative: \t10\n",
      "Rejected: \t57\n",
      "Iteration: \t9 / 50\n",
      "Confirmed: \t3\n",
      "Tentative: \t7\n",
      "Rejected: \t57\n",
      "Iteration: \t10 / 50\n",
      "Confirmed: \t3\n",
      "Tentative: \t7\n",
      "Rejected: \t57\n",
      "Iteration: \t11 / 50\n",
      "Confirmed: \t3\n",
      "Tentative: \t7\n",
      "Rejected: \t57\n",
      "Iteration: \t12 / 50\n",
      "Confirmed: \t3\n",
      "Tentative: \t7\n",
      "Rejected: \t57\n",
      "Iteration: \t13 / 50\n",
      "Confirmed: \t3\n",
      "Tentative: \t7\n",
      "Rejected: \t57\n",
      "Iteration: \t14 / 50\n",
      "Confirmed: \t3\n",
      "Tentative: \t7\n",
      "Rejected: \t57\n",
      "Iteration: \t15 / 50\n",
      "Confirmed: \t3\n",
      "Tentative: \t7\n",
      "Rejected: \t57\n",
      "Iteration: \t16 / 50\n",
      "Confirmed: \t3\n",
      "Tentative: \t7\n",
      "Rejected: \t57\n",
      "Iteration: \t17 / 50\n",
      "Confirmed: \t3\n",
      "Tentative: \t7\n",
      "Rejected: \t57\n",
      "Iteration: \t18 / 50\n",
      "Confirmed: \t3\n",
      "Tentative: \t7\n",
      "Rejected: \t57\n",
      "Iteration: \t19 / 50\n",
      "Confirmed: \t3\n",
      "Tentative: \t7\n",
      "Rejected: \t57\n",
      "Iteration: \t20 / 50\n",
      "Confirmed: \t3\n",
      "Tentative: \t7\n",
      "Rejected: \t57\n",
      "Iteration: \t21 / 50\n",
      "Confirmed: \t3\n",
      "Tentative: \t7\n",
      "Rejected: \t57\n",
      "Iteration: \t22 / 50\n",
      "Confirmed: \t5\n",
      "Tentative: \t5\n",
      "Rejected: \t57\n",
      "Iteration: \t23 / 50\n",
      "Confirmed: \t5\n",
      "Tentative: \t5\n",
      "Rejected: \t57\n",
      "Iteration: \t24 / 50\n",
      "Confirmed: \t5\n",
      "Tentative: \t5\n",
      "Rejected: \t57\n",
      "Iteration: \t25 / 50\n",
      "Confirmed: \t5\n",
      "Tentative: \t5\n",
      "Rejected: \t57\n",
      "Iteration: \t26 / 50\n",
      "Confirmed: \t6\n",
      "Tentative: \t4\n",
      "Rejected: \t57\n",
      "Iteration: \t27 / 50\n",
      "Confirmed: \t6\n",
      "Tentative: \t4\n",
      "Rejected: \t57\n",
      "Iteration: \t28 / 50\n",
      "Confirmed: \t6\n",
      "Tentative: \t4\n",
      "Rejected: \t57\n",
      "Iteration: \t29 / 50\n",
      "Confirmed: \t6\n",
      "Tentative: \t4\n",
      "Rejected: \t57\n",
      "Iteration: \t30 / 50\n",
      "Confirmed: \t6\n",
      "Tentative: \t4\n",
      "Rejected: \t57\n",
      "Iteration: \t31 / 50\n",
      "Confirmed: \t6\n",
      "Tentative: \t4\n",
      "Rejected: \t57\n",
      "Iteration: \t32 / 50\n",
      "Confirmed: \t8\n",
      "Tentative: \t2\n",
      "Rejected: \t57\n",
      "Iteration: \t33 / 50\n",
      "Confirmed: \t8\n",
      "Tentative: \t2\n",
      "Rejected: \t57\n",
      "Iteration: \t34 / 50\n",
      "Confirmed: \t10\n",
      "Tentative: \t0\n",
      "Rejected: \t57\n",
      "\n",
      "\n",
      "BorutaPy finished running.\n",
      "\n",
      "Iteration: \t35 / 50\n",
      "Confirmed: \t10\n",
      "Tentative: \t0\n",
      "Rejected: \t57\n"
     ]
    },
    {
     "data": {
      "text/html": [
       "<style>#sk-container-id-6 {color: black;background-color: white;}#sk-container-id-6 pre{padding: 0;}#sk-container-id-6 div.sk-toggleable {background-color: white;}#sk-container-id-6 label.sk-toggleable__label {cursor: pointer;display: block;width: 100%;margin-bottom: 0;padding: 0.3em;box-sizing: border-box;text-align: center;}#sk-container-id-6 label.sk-toggleable__label-arrow:before {content: \"▸\";float: left;margin-right: 0.25em;color: #696969;}#sk-container-id-6 label.sk-toggleable__label-arrow:hover:before {color: black;}#sk-container-id-6 div.sk-estimator:hover label.sk-toggleable__label-arrow:before {color: black;}#sk-container-id-6 div.sk-toggleable__content {max-height: 0;max-width: 0;overflow: hidden;text-align: left;background-color: #f0f8ff;}#sk-container-id-6 div.sk-toggleable__content pre {margin: 0.2em;color: black;border-radius: 0.25em;background-color: #f0f8ff;}#sk-container-id-6 input.sk-toggleable__control:checked~div.sk-toggleable__content {max-height: 200px;max-width: 100%;overflow: auto;}#sk-container-id-6 input.sk-toggleable__control:checked~label.sk-toggleable__label-arrow:before {content: \"▾\";}#sk-container-id-6 div.sk-estimator input.sk-toggleable__control:checked~label.sk-toggleable__label {background-color: #d4ebff;}#sk-container-id-6 div.sk-label input.sk-toggleable__control:checked~label.sk-toggleable__label {background-color: #d4ebff;}#sk-container-id-6 input.sk-hidden--visually {border: 0;clip: rect(1px 1px 1px 1px);clip: rect(1px, 1px, 1px, 1px);height: 1px;margin: -1px;overflow: hidden;padding: 0;position: absolute;width: 1px;}#sk-container-id-6 div.sk-estimator {font-family: monospace;background-color: #f0f8ff;border: 1px dotted black;border-radius: 0.25em;box-sizing: border-box;margin-bottom: 0.5em;}#sk-container-id-6 div.sk-estimator:hover {background-color: #d4ebff;}#sk-container-id-6 div.sk-parallel-item::after {content: \"\";width: 100%;border-bottom: 1px solid gray;flex-grow: 1;}#sk-container-id-6 div.sk-label:hover label.sk-toggleable__label {background-color: #d4ebff;}#sk-container-id-6 div.sk-serial::before {content: \"\";position: absolute;border-left: 1px solid gray;box-sizing: border-box;top: 0;bottom: 0;left: 50%;z-index: 0;}#sk-container-id-6 div.sk-serial {display: flex;flex-direction: column;align-items: center;background-color: white;padding-right: 0.2em;padding-left: 0.2em;position: relative;}#sk-container-id-6 div.sk-item {position: relative;z-index: 1;}#sk-container-id-6 div.sk-parallel {display: flex;align-items: stretch;justify-content: center;background-color: white;position: relative;}#sk-container-id-6 div.sk-item::before, #sk-container-id-6 div.sk-parallel-item::before {content: \"\";position: absolute;border-left: 1px solid gray;box-sizing: border-box;top: 0;bottom: 0;left: 50%;z-index: -1;}#sk-container-id-6 div.sk-parallel-item {display: flex;flex-direction: column;z-index: 1;position: relative;background-color: white;}#sk-container-id-6 div.sk-parallel-item:first-child::after {align-self: flex-end;width: 50%;}#sk-container-id-6 div.sk-parallel-item:last-child::after {align-self: flex-start;width: 50%;}#sk-container-id-6 div.sk-parallel-item:only-child::after {width: 0;}#sk-container-id-6 div.sk-dashed-wrapped {border: 1px dashed gray;margin: 0 0.4em 0.5em 0.4em;box-sizing: border-box;padding-bottom: 0.4em;background-color: white;}#sk-container-id-6 div.sk-label label {font-family: monospace;font-weight: bold;display: inline-block;line-height: 1.2em;}#sk-container-id-6 div.sk-label-container {text-align: center;}#sk-container-id-6 div.sk-container {/* jupyter's `normalize.less` sets `[hidden] { display: none; }` but bootstrap.min.css set `[hidden] { display: none !important; }` so we also need the `!important` here to be able to override the default hidden behavior on the sphinx rendered scikit-learn.org. See: https://github.com/scikit-learn/scikit-learn/issues/21755 */display: inline-block !important;position: relative;}#sk-container-id-6 div.sk-text-repr-fallback {display: none;}</style><div id=\"sk-container-id-6\" class=\"sk-top-container\"><div class=\"sk-text-repr-fallback\"><pre>BorutaPy(estimator=RandomForestRegressor(max_depth=30, n_estimators=14,\n",
       "                                         n_jobs=-1,\n",
       "                                         random_state=RandomState(MT19937) at 0x298D6DA40),\n",
       "         max_iter=50, n_estimators=&#x27;auto&#x27;,\n",
       "         random_state=RandomState(MT19937) at 0x298D6DA40, verbose=2)</pre><b>In a Jupyter environment, please rerun this cell to show the HTML representation or trust the notebook. <br />On GitHub, the HTML representation is unable to render, please try loading this page with nbviewer.org.</b></div><div class=\"sk-container\" hidden><div class=\"sk-item sk-dashed-wrapped\"><div class=\"sk-label-container\"><div class=\"sk-label sk-toggleable\"><input class=\"sk-toggleable__control sk-hidden--visually\" id=\"sk-estimator-id-16\" type=\"checkbox\" ><label for=\"sk-estimator-id-16\" class=\"sk-toggleable__label sk-toggleable__label-arrow\">BorutaPy</label><div class=\"sk-toggleable__content\"><pre>BorutaPy(estimator=RandomForestRegressor(max_depth=30, n_estimators=14,\n",
       "                                         n_jobs=-1,\n",
       "                                         random_state=RandomState(MT19937) at 0x298D6DA40),\n",
       "         max_iter=50, n_estimators=&#x27;auto&#x27;,\n",
       "         random_state=RandomState(MT19937) at 0x298D6DA40, verbose=2)</pre></div></div></div><div class=\"sk-parallel\"><div class=\"sk-parallel-item\"><div class=\"sk-item\"><div class=\"sk-label-container\"><div class=\"sk-label sk-toggleable\"><input class=\"sk-toggleable__control sk-hidden--visually\" id=\"sk-estimator-id-17\" type=\"checkbox\" ><label for=\"sk-estimator-id-17\" class=\"sk-toggleable__label sk-toggleable__label-arrow\">estimator: RandomForestRegressor</label><div class=\"sk-toggleable__content\"><pre>RandomForestRegressor(max_depth=30, n_estimators=14, n_jobs=-1,\n",
       "                      random_state=RandomState(MT19937) at 0x298D6DA40)</pre></div></div></div><div class=\"sk-serial\"><div class=\"sk-item\"><div class=\"sk-estimator sk-toggleable\"><input class=\"sk-toggleable__control sk-hidden--visually\" id=\"sk-estimator-id-18\" type=\"checkbox\" ><label for=\"sk-estimator-id-18\" class=\"sk-toggleable__label sk-toggleable__label-arrow\">RandomForestRegressor</label><div class=\"sk-toggleable__content\"><pre>RandomForestRegressor(max_depth=30, n_estimators=14, n_jobs=-1,\n",
       "                      random_state=RandomState(MT19937) at 0x298D6DA40)</pre></div></div></div></div></div></div></div></div></div></div>"
      ],
      "text/plain": [
       "BorutaPy(estimator=RandomForestRegressor(max_depth=30, n_estimators=14,\n",
       "                                         n_jobs=-1,\n",
       "                                         random_state=RandomState(MT19937) at 0x298D6DA40),\n",
       "         max_iter=50, n_estimators='auto',\n",
       "         random_state=RandomState(MT19937) at 0x298D6DA40, verbose=2)"
      ]
     },
     "execution_count": 18,
     "metadata": {},
     "output_type": "execute_result"
    }
   ],
   "source": [
    "# define random forest classifier\n",
    "forest = RandomForestRegressor(max_depth=30,n_jobs=-1)\n",
    "\n",
    "# define Boruta feature selection method\n",
    "feat_selector = BorutaPy(forest, n_estimators='auto', verbose=2, random_state=1,max_iter=50)\n",
    "\n",
    "# find all relevant features\n",
    "feat_selector.fit(X_train.values,y_train.values)"
   ]
  },
  {
   "cell_type": "code",
   "execution_count": 19,
   "id": "8b52f45c",
   "metadata": {},
   "outputs": [],
   "source": [
    "ranks = feat_selector.ranking_\n",
    "params = train_df.columns"
   ]
  },
  {
   "cell_type": "code",
   "execution_count": 22,
   "id": "aaee648a",
   "metadata": {},
   "outputs": [],
   "source": [
    "sorted_pairs = sorted(zip(ranks, params))\n",
    "sorted_first_list, sorted_second_list = zip(*sorted_pairs)"
   ]
  },
  {
   "cell_type": "code",
   "execution_count": 23,
   "id": "2cfd0499",
   "metadata": {},
   "outputs": [],
   "source": [
    "import csv\n",
    "with open(csv_path+'ranked_features.csv', 'w', newline='') as csvfile:\n",
    "    writer = csv.writer(csvfile)\n",
    "\n",
    "    # Write the header row if needed\n",
    "    writer.writerow(['Rank', 'Feature'])\n",
    "\n",
    "    # Iterate over the arrays and write each element as a row\n",
    "    for i in range(len(sorted_first_list)):\n",
    "        writer.writerow([sorted_first_list[i], sorted_second_list[i]])"
   ]
  }
 ],
 "metadata": {
  "kernelspec": {
   "display_name": "Python 3 (ipykernel)",
   "language": "python",
   "name": "python3"
  },
  "language_info": {
   "codemirror_mode": {
    "name": "ipython",
    "version": 3
   },
   "file_extension": ".py",
   "mimetype": "text/x-python",
   "name": "python",
   "nbconvert_exporter": "python",
   "pygments_lexer": "ipython3",
   "version": "3.10.9"
  }
 },
 "nbformat": 4,
 "nbformat_minor": 5
}
