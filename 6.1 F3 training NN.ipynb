{
 "cells": [
  {
   "cell_type": "markdown",
   "id": "8cddb13a",
   "metadata": {},
   "source": [
    "<font color='red'><h1> Training neural network on features ranked by BorutaPy library </h1></font>"
   ]
  },
  {
   "cell_type": "markdown",
   "id": "a7a5806f",
   "metadata": {},
   "source": [
    "This workbook is to train neural network from different set of ranked features. The features are ranked by their importance by BorutaPy library where rank 1 means the best one."
   ]
  },
  {
   "cell_type": "markdown",
   "id": "c4fd9140",
   "metadata": {},
   "source": [
    "## Import libraries"
   ]
  },
  {
   "cell_type": "code",
   "execution_count": 1,
   "id": "1e410291",
   "metadata": {},
   "outputs": [
    {
     "name": "stdout",
     "output_type": "stream",
     "text": [
      "Using TensorFlow backend\n"
     ]
    }
   ],
   "source": [
    "import os,shutil\n",
    "import numpy as np\n",
    "import pandas as pd\n",
    "import tensorflow as tf\n",
    "import keras_tuner\n",
    "from tensorflow import keras\n",
    "from keras import Sequential\n",
    "from keras.callbacks import EarlyStopping\n",
    "from keras.layers import Dense, Dropout, BatchNormalization\n",
    "from sklearn.ensemble import RandomForestClassifier, AdaBoostClassifier, GradientBoostingClassifier"
   ]
  },
  {
   "cell_type": "code",
   "execution_count": 2,
   "id": "e887dab3",
   "metadata": {},
   "outputs": [],
   "source": [
    "csv_path = os.getcwd() + '/data/'\n",
    "train_df = pd.read_csv(csv_path + 'train.csv')\n",
    "val_df = pd.read_csv(csv_path + 'val.csv')\n",
    "feature_df = pd.read_csv(csv_path + 'ranked_features.csv')"
   ]
  },
  {
   "cell_type": "code",
   "execution_count": 3,
   "id": "89875401",
   "metadata": {},
   "outputs": [],
   "source": [
    "X_train = train_df.drop('emission',axis=1)\n",
    "X_val = val_df.drop('emission',axis=1)\n",
    "y_train = train_df['emission']\n",
    "y_val = val_df['emission']"
   ]
  },
  {
   "cell_type": "markdown",
   "id": "4873cc6b",
   "metadata": {},
   "source": [
    "## Tune NN"
   ]
  },
  {
   "cell_type": "code",
   "execution_count": 11,
   "id": "32ec41c9",
   "metadata": {},
   "outputs": [],
   "source": [
    "callback = EarlyStopping(monitor='val_loss',min_delta=0,patience=10,mode='auto')"
   ]
  },
  {
   "cell_type": "code",
   "execution_count": 12,
   "id": "ff35a526",
   "metadata": {},
   "outputs": [],
   "source": [
    "def get_model():\n",
    "    model = keras.Sequential()\n",
    "\n",
    "    model.add(Dense(10,activation='relu'))\n",
    "    model.add(Dense(8,activation='relu'))\n",
    "    model.add(Dense(4,activation='relu'))\n",
    "\n",
    "    model.add(Dense(1,activation='linear'))\n",
    "    \n",
    "    model.compile(loss='mse',optimizer='rmsprop',metrics=['mae'])\n",
    "    \n",
    "    return model"
   ]
  },
  {
   "cell_type": "markdown",
   "id": "5ad578aa",
   "metadata": {},
   "source": [
    "## Rank 1 only"
   ]
  },
  {
   "cell_type": "code",
   "execution_count": 13,
   "id": "a638a2b3",
   "metadata": {},
   "outputs": [],
   "source": [
    "cols = feature_df[feature_df['Rank'] == 1]['Feature'].values"
   ]
  },
  {
   "cell_type": "code",
   "execution_count": 14,
   "id": "66d34ee8",
   "metadata": {},
   "outputs": [],
   "source": [
    "X_train_new = X_train[cols]\n",
    "X_val_new = X_val[cols]"
   ]
  },
  {
   "cell_type": "code",
   "execution_count": 15,
   "id": "bde3356e",
   "metadata": {},
   "outputs": [],
   "source": [
    "model = get_model()"
   ]
  },
  {
   "cell_type": "code",
   "execution_count": null,
   "id": "c1d4033e",
   "metadata": {},
   "outputs": [],
   "source": [
    "model.fit(X_train_new,y_train,epochs=100,batch_size=32,validation_data=(X_val_new,y_val),callbacks=callback)"
   ]
  },
  {
   "cell_type": "markdown",
   "id": "e6a77513",
   "metadata": {},
   "source": [
    "## Upto Rank 10"
   ]
  },
  {
   "cell_type": "code",
   "execution_count": null,
   "id": "45e81075",
   "metadata": {},
   "outputs": [],
   "source": [
    "cols = feature_df[feature_df['Rank'] <= 10]['Feature'].values"
   ]
  },
  {
   "cell_type": "code",
   "execution_count": 14,
   "id": "356ce35a",
   "metadata": {},
   "outputs": [],
   "source": [
    "X_train_new = X_train[cols]\n",
    "X_val_new = X_val[cols]"
   ]
  },
  {
   "cell_type": "code",
   "execution_count": 15,
   "id": "f6cd683b",
   "metadata": {},
   "outputs": [],
   "source": [
    "model = get_model()"
   ]
  },
  {
   "cell_type": "code",
   "execution_count": null,
   "id": "769e9808",
   "metadata": {},
   "outputs": [],
   "source": [
    "model.fit(X_train_new,y_train,epochs=100,batch_size=32,validation_data=(X_val_new,y_val),callbacks=callback)"
   ]
  },
  {
   "cell_type": "markdown",
   "id": "e8388900",
   "metadata": {},
   "source": [
    "## Upto Rank 20"
   ]
  },
  {
   "cell_type": "code",
   "execution_count": null,
   "id": "32e70e53",
   "metadata": {},
   "outputs": [],
   "source": [
    "cols = feature_df[feature_df['Rank'] <= 10]['Feature'].values"
   ]
  },
  {
   "cell_type": "code",
   "execution_count": 14,
   "id": "55f2588b",
   "metadata": {},
   "outputs": [],
   "source": [
    "X_train_new = X_train[cols]\n",
    "X_val_new = X_val[cols]"
   ]
  },
  {
   "cell_type": "code",
   "execution_count": 15,
   "id": "cbe6fc84",
   "metadata": {},
   "outputs": [],
   "source": [
    "model = get_model()"
   ]
  },
  {
   "cell_type": "code",
   "execution_count": null,
   "id": "812b2f8e",
   "metadata": {},
   "outputs": [],
   "source": [
    "model.fit(X_train_new,y_train,epochs=100,batch_size=32,validation_data=(X_val_new,y_val),callbacks=callback)"
   ]
  }
 ],
 "metadata": {
  "kernelspec": {
   "display_name": "Python 3 (ipykernel)",
   "language": "python",
   "name": "python3"
  },
  "language_info": {
   "codemirror_mode": {
    "name": "ipython",
    "version": 3
   },
   "file_extension": ".py",
   "mimetype": "text/x-python",
   "name": "python",
   "nbconvert_exporter": "python",
   "pygments_lexer": "ipython3",
   "version": "3.10.9"
  }
 },
 "nbformat": 4,
 "nbformat_minor": 5
}
