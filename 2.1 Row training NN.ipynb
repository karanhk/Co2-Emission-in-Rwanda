{
 "cells": [
  {
   "cell_type": "markdown",
   "id": "8cddb13a",
   "metadata": {},
   "source": [
    "<font color='red'><h1> Training Neural Network on row data </h1></font>"
   ]
  },
  {
   "cell_type": "markdown",
   "id": "7638f703",
   "metadata": {},
   "source": [
    "This workbook is to train neural network on row data. By row data, I mean data without feature engineering. This workbook is to\n",
    "1. Find perfect hyperparameters using keras_tuner\n",
    "2. Train NN on train dataset"
   ]
  },
  {
   "cell_type": "markdown",
   "id": "c4fd9140",
   "metadata": {},
   "source": [
    "## Import libraries"
   ]
  },
  {
   "cell_type": "code",
   "execution_count": 1,
   "id": "1e410291",
   "metadata": {},
   "outputs": [
    {
     "name": "stdout",
     "output_type": "stream",
     "text": [
      "Using TensorFlow backend\n"
     ]
    }
   ],
   "source": [
    "import os,shutil\n",
    "import numpy as np\n",
    "import pandas as pd\n",
    "import tensorflow as tf\n",
    "import keras_tuner\n",
    "from tensorflow import keras\n",
    "from keras import Sequential\n",
    "from keras.callbacks import EarlyStopping\n",
    "from keras.layers import Dense, Dropout, BatchNormalization\n",
    "from sklearn.ensemble import RandomForestClassifier, AdaBoostClassifier, GradientBoostingClassifier"
   ]
  },
  {
   "cell_type": "code",
   "execution_count": 2,
   "id": "e887dab3",
   "metadata": {},
   "outputs": [],
   "source": [
    "csv_path = os.getcwd() + '/data/'\n",
    "train_df = pd.read_csv(csv_path + 'train.csv')\n",
    "val_df = pd.read_csv(csv_path + 'val.csv')"
   ]
  },
  {
   "cell_type": "code",
   "execution_count": 3,
   "id": "89875401",
   "metadata": {},
   "outputs": [],
   "source": [
    "X_train = train_df.drop('emission',axis=1)\n",
    "X_val = val_df.drop('emission',axis=1)\n",
    "y_train = train_df['emission']\n",
    "y_val = val_df['emission']"
   ]
  },
  {
   "cell_type": "markdown",
   "id": "de173a8f",
   "metadata": {},
   "source": [
    "## Tune the model"
   ]
  },
  {
   "cell_type": "code",
   "execution_count": 4,
   "id": "abd9558b",
   "metadata": {},
   "outputs": [
    {
     "name": "stdout",
     "output_type": "stream",
     "text": [
      "Metal device set to: Apple M1\n"
     ]
    }
   ],
   "source": [
    "neurons1 = np.arange(200,301,8).tolist()\n",
    "neurons2 = np.arange(100,201,8).tolist()\n",
    "neurons3 = np.arange(50,101,5).tolist()\n",
    "neurons4 = np.arange(10,51,5).tolist()\n",
    "\n",
    "new_model = keras.Sequential()\n",
    "new_model.add(keras.Input(67,))"
   ]
  },
  {
   "cell_type": "code",
   "execution_count": null,
   "id": "58c4535b",
   "metadata": {},
   "outputs": [],
   "source": [
    "def build_model(hp):\n",
    "    model = keras.Sequential()\n",
    "    \n",
    "    if len(new_model.layers) > 0:\n",
    "        model.add(new_model)\n",
    "    \n",
    "    hp_units = hp.Choice('units', neurons4)\n",
    "    model.add(Dense(hp_units,activation='relu'))\n",
    "    \n",
    "    model.add(Dense(1,activation='linear'))\n",
    "    \n",
    "    model.compile(loss='mse',optimizer='adam',metrics=['mae'])\n",
    "    return model"
   ]
  },
  {
   "cell_type": "code",
   "execution_count": null,
   "id": "0fc96ed6",
   "metadata": {},
   "outputs": [],
   "source": [
    "tuner = keras_tuner.RandomSearch(build_model,objective='val_loss',max_trials=5)"
   ]
  },
  {
   "cell_type": "code",
   "execution_count": null,
   "id": "016707cd",
   "metadata": {},
   "outputs": [],
   "source": [
    "tuner.search(X_train, y_train, epochs=3, validation_data=(X_val, y_val))"
   ]
  },
  {
   "cell_type": "code",
   "execution_count": null,
   "id": "ef29a5b1",
   "metadata": {},
   "outputs": [],
   "source": [
    "best_model = tuner.get_best_models()[0]"
   ]
  },
  {
   "cell_type": "code",
   "execution_count": null,
   "id": "83fd69a4",
   "metadata": {},
   "outputs": [],
   "source": [
    "new_model = tf.keras.Model(inputs=best_model.input, outputs=best_model.layers[-2].output)\n",
    "for layer in new_model.layers:\n",
    "    layer.trainable = False"
   ]
  },
  {
   "cell_type": "code",
   "execution_count": null,
   "id": "f9ccc4a2",
   "metadata": {},
   "outputs": [],
   "source": [
    "shutil.rmtree(os.getcwd() + '/untitled_project')"
   ]
  },
  {
   "cell_type": "markdown",
   "id": "4873cc6b",
   "metadata": {},
   "source": [
    "## Tune NN"
   ]
  },
  {
   "cell_type": "code",
   "execution_count": 9,
   "id": "32ec41c9",
   "metadata": {},
   "outputs": [],
   "source": [
    "callback = EarlyStopping(monitor='val_loss',min_delta=0,patience=10,mode='auto')"
   ]
  },
  {
   "cell_type": "code",
   "execution_count": 10,
   "id": "ff35a526",
   "metadata": {},
   "outputs": [],
   "source": [
    "model = keras.Sequential()\n",
    "\n",
    "model.add(Dense(375,activation='relu'))\n",
    "model.add(Dense(300,activation='relu'))\n",
    "model.add(Dense(200,activation='relu'))\n",
    "\n",
    "model.add(Dense(150,activation='relu'))\n",
    "model.add(Dropout(0.2))\n",
    "model.add(Dense(100,activation='relu'))\n",
    "model.add(Dropout(0.25))\n",
    "\n",
    "model.add(Dense(75,activation='relu'))\n",
    "model.add(Dropout(0.2))\n",
    "model.add(Dense(50,activation='relu'))\n",
    "model.add(Dropout(0.2))\n",
    "\n",
    "model.add(Dense(37,activation='relu'))\n",
    "model.add(Dropout(0.2))\n",
    "model.add(Dense(32,activation='relu'))\n",
    "model.add(Dropout(0.2))\n",
    "\n",
    "model.add(Dense(16,activation='relu'))\n",
    "model.add(Dropout(0.2))\n",
    "model.add(Dense(8,activation='relu'))\n",
    "model.add(Dropout(0.2))\n",
    "\n",
    "\n",
    "model.add(Dense(4,activation='relu'))\n",
    "model.add(Dropout(0.25))\n",
    "\n",
    "model.add(Dense(2,activation='relu'))\n",
    "model.add(Dense(1,activation='linear'))"
   ]
  },
  {
   "cell_type": "code",
   "execution_count": 11,
   "id": "af434494",
   "metadata": {},
   "outputs": [],
   "source": [
    "model.compile(loss='mse',optimizer='rmsprop',metrics=['mae'])"
   ]
  },
  {
   "cell_type": "code",
   "execution_count": 12,
   "id": "298fdfce",
   "metadata": {
    "scrolled": true
   },
   "outputs": [
    {
     "name": "stdout",
     "output_type": "stream",
     "text": [
      "Epoch 1/100\n",
      "1976/1976 [==============================] - 39s 19ms/step - loss: 19772.0273 - mae: 65.4237 - val_loss: 22014.5840 - val_mae: 73.1421\n",
      "Epoch 2/100\n",
      "1976/1976 [==============================] - 37s 19ms/step - loss: 17894.0879 - mae: 58.3742 - val_loss: 21202.2754 - val_mae: 55.0796\n",
      "Epoch 3/100\n",
      "1976/1976 [==============================] - 38s 19ms/step - loss: 17400.7188 - mae: 57.3015 - val_loss: 21550.5898 - val_mae: 54.7630\n",
      "Epoch 4/100\n",
      "1976/1976 [==============================] - 37s 19ms/step - loss: 16962.7988 - mae: 56.6640 - val_loss: 21738.5391 - val_mae: 55.2694\n",
      "Epoch 5/100\n",
      "1976/1976 [==============================] - 37s 19ms/step - loss: 16783.3145 - mae: 56.2522 - val_loss: 21577.1797 - val_mae: 55.6836\n",
      "Epoch 6/100\n",
      "1976/1976 [==============================] - 37s 19ms/step - loss: 16333.2822 - mae: 56.0472 - val_loss: 22990.9609 - val_mae: 58.2889\n",
      "Epoch 7/100\n",
      "1976/1976 [==============================] - 37s 19ms/step - loss: 16267.7246 - mae: 55.5824 - val_loss: 21953.7910 - val_mae: 56.8603\n",
      "Epoch 8/100\n",
      "1976/1976 [==============================] - 37s 19ms/step - loss: 15866.1494 - mae: 55.5140 - val_loss: 24200.5703 - val_mae: 62.8372\n",
      "Epoch 9/100\n",
      "1976/1976 [==============================] - 37s 19ms/step - loss: 15927.0488 - mae: 54.9855 - val_loss: 22403.1973 - val_mae: 56.5050\n",
      "Epoch 10/100\n",
      "1976/1976 [==============================] - 37s 19ms/step - loss: 15338.6475 - mae: 54.9605 - val_loss: 20248.3730 - val_mae: 54.7810\n",
      "Epoch 11/100\n",
      "1976/1976 [==============================] - 37s 19ms/step - loss: 15158.5283 - mae: 55.1562 - val_loss: 20776.8438 - val_mae: 54.2261\n",
      "Epoch 12/100\n",
      "1976/1976 [==============================] - 37s 19ms/step - loss: 14907.7236 - mae: 54.7527 - val_loss: 21739.1230 - val_mae: 56.3037\n",
      "Epoch 13/100\n",
      "1976/1976 [==============================] - 37s 19ms/step - loss: 14701.7520 - mae: 54.8978 - val_loss: 23251.4668 - val_mae: 60.7838\n",
      "Epoch 14/100\n",
      "1976/1976 [==============================] - 37s 19ms/step - loss: 13918.2393 - mae: 54.1286 - val_loss: 20339.7598 - val_mae: 55.1437\n",
      "Epoch 15/100\n",
      "1976/1976 [==============================] - 37s 19ms/step - loss: 13946.6318 - mae: 54.0176 - val_loss: 22427.7871 - val_mae: 57.8675\n",
      "Epoch 16/100\n",
      "1976/1976 [==============================] - 37s 19ms/step - loss: 14368.6865 - mae: 53.9689 - val_loss: 20598.7852 - val_mae: 54.9982\n",
      "Epoch 17/100\n",
      "1976/1976 [==============================] - 37s 19ms/step - loss: 13993.5430 - mae: 54.1906 - val_loss: 20758.5137 - val_mae: 56.5971\n",
      "Epoch 18/100\n",
      "1976/1976 [==============================] - 37s 19ms/step - loss: 13791.9756 - mae: 53.9546 - val_loss: 20524.6348 - val_mae: 55.3599\n",
      "Epoch 19/100\n",
      "1976/1976 [==============================] - 37s 19ms/step - loss: 13357.1934 - mae: 53.6799 - val_loss: 21393.2598 - val_mae: 56.7689\n",
      "Epoch 20/100\n",
      "1976/1976 [==============================] - 37s 19ms/step - loss: 12914.2969 - mae: 53.1883 - val_loss: 20350.5391 - val_mae: 54.7241\n"
     ]
    },
    {
     "data": {
      "text/plain": [
       "<keras.callbacks.History at 0x2d80c47f0>"
      ]
     },
     "execution_count": 12,
     "metadata": {},
     "output_type": "execute_result"
    }
   ],
   "source": [
    "model.fit(X_train,y_train,epochs=100,batch_size=32,validation_data=(X_val,y_val),callbacks=callback)"
   ]
  }
 ],
 "metadata": {
  "kernelspec": {
   "display_name": "Python 3 (ipykernel)",
   "language": "python",
   "name": "python3"
  },
  "language_info": {
   "codemirror_mode": {
    "name": "ipython",
    "version": 3
   },
   "file_extension": ".py",
   "mimetype": "text/x-python",
   "name": "python",
   "nbconvert_exporter": "python",
   "pygments_lexer": "ipython3",
   "version": "3.10.9"
  }
 },
 "nbformat": 4,
 "nbformat_minor": 5
}
